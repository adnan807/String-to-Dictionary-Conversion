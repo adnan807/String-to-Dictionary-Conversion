{
 "cells": [
  {
   "cell_type": "code",
   "execution_count": 2,
   "id": "2ec3d218-deb4-4c02-a739-a2a44eccbfb4",
   "metadata": {},
   "outputs": [
    {
     "name": "stdout",
     "output_type": "stream",
     "text": [
      "{'python': [0, 6], 'is': [1, 7], 'a': [2], 'powerful': [3], 'programming': [4], 'language': [5], 'versatile': [8]}\n"
     ]
    }
   ],
   "source": [
    "import re\n",
    "\n",
    "def word_indices(string):\n",
    "    # Remove punctuation and convert to lowercase\n",
    "    clean_string = re.sub(r'[^\\w\\s]', '', string.lower())\n",
    "    words = clean_string.split()\n",
    "\n",
    "    # Create a dictionary to store word indices\n",
    "    word_indices_dict = {}\n",
    "\n",
    "    # Iterate over the words\n",
    "    for index, word in enumerate(words):\n",
    "        # If the word is not in the dictionary, add it\n",
    "        if word not in word_indices_dict:\n",
    "            word_indices_dict[word] = [index]\n",
    "        else:\n",
    "            # If the word is already in the dictionary, append the index to its list\n",
    "            word_indices_dict[word].append(index)\n",
    "\n",
    "    return word_indices_dict\n",
    "\n",
    "# Example usage:\n",
    "input_string = \"Python is a powerful programming language. Python is versatile.\"\n",
    "result = word_indices(input_string)\n",
    "print(result)"
   ]
  },
  {
   "cell_type": "code",
   "execution_count": null,
   "id": "68199d8e-8ac5-4afa-ad60-60d9457b99ec",
   "metadata": {},
   "outputs": [],
   "source": []
  }
 ],
 "metadata": {
  "kernelspec": {
   "display_name": "Python 3 (ipykernel)",
   "language": "python",
   "name": "python3"
  },
  "language_info": {
   "codemirror_mode": {
    "name": "ipython",
    "version": 3
   },
   "file_extension": ".py",
   "mimetype": "text/x-python",
   "name": "python",
   "nbconvert_exporter": "python",
   "pygments_lexer": "ipython3",
   "version": "3.11.4"
  }
 },
 "nbformat": 4,
 "nbformat_minor": 5
}
